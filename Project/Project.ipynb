{
  "nbformat": 4,
  "nbformat_minor": 0,
  "metadata": {
    "colab": {
      "name": "Project.ipynb",
      "provenance": [],
      "collapsed_sections": []
    },
    "kernelspec": {
      "name": "python3",
      "display_name": "Python 3"
    },
    "language_info": {
      "name": "python"
    }
  },
  "cells": [
    {
      "cell_type": "code",
      "metadata": {
        "colab": {
          "base_uri": "https://localhost:8080/"
        },
        "id": "dlu3gKQd2hFL",
        "outputId": "b27dffbf-2527-4962-df98-ab5bae68b1fe"
      },
      "source": [
        "import numpy as np\n",
        "import sklearn as sk\n",
        "import pandas as pd\n",
        "from sklearn.naive_bayes import MultinomialNB\n",
        "from sklearn.model_selection import train_test_split\n",
        "\n",
        "\n",
        "#function to perform convolution\n",
        "def convolve2D(image, filter):\n",
        "  fX, fY = filter.shape # Get filter dimensions\n",
        "  fNby2 = (fX//2) \n",
        "  n = 28\n",
        "  nn = n - (fNby2 *2) #new dimension of the reduced image size\n",
        "  newImage = np.zeros((nn,nn)) #empty new 2D imange\n",
        "  for i in range(0,nn):\n",
        "    for j in range(0,nn):\n",
        "      newImage[i][j] = np.sum(image[i:i+fX, j:j+fY]*filter)//25\n",
        "  return newImage\n",
        "\n",
        "#Read Data from CSV\n",
        "train = pd.read_csv(\"train.csv\")\n",
        "#df = pd.read_csv(\"test.csv\")\n",
        "#df.head()\n",
        "X = train.drop('label',axis=1)\n",
        "Y = train['label']\n",
        "# print(X)\n",
        "\n",
        "#Create Filter for convolution\n",
        "filter = np.array([[1,1,1,1,1],\n",
        "          [1,1,1,1,1],\n",
        "          [1,1,1,1,1],\n",
        "          [1,1,1,1,1],\n",
        "          [1,1,1,1,1]])\n",
        "\n",
        "#convert from dataframe to numpy array\n",
        "X = X.to_numpy()\n",
        "print(X.shape)\n",
        "\n",
        "#new array with reduced number of features to store the small size images\n",
        "sX = np.empty((0,576), int)\n",
        "\n",
        "# img = X[6]\n",
        "ss = 500 #subset size for dry runs change to 42000 to run on whole data\n",
        "\n",
        "#Perform convolve on all images\n",
        "for img in X[0:ss,:]:\n",
        "  img2D = np.reshape(img, (28,28))\n",
        "  # print(img2D.shape)\n",
        "  # print(img2D)\n",
        "  nImg = convolve2D(img2D,filter)\n",
        "  # print(nImg.shape)\n",
        "  # print(nImg)\n",
        "  nImg1D = np.reshape(nImg, (-1,576))\n",
        "  # print(nImg.shape)\n",
        "  sX = np.append(sX, nImg1D, axis=0)\n",
        "\n",
        "Y = Y.to_numpy()\n",
        "sY = Y[0:ss]\n",
        "# print(sY)\n",
        "print(sY.shape)\n",
        "print(sX.shape)\n",
        "\n",
        "\n",
        "# train and test model\n",
        "sXTrain, sXTest, yTrain, yTest = train_test_split(sX,sY,test_size=0.2,random_state=0)\n",
        "print(sXTest.shape,\", \",yTest.shape)\n",
        "print(sXTrain.shape,\", \",yTrain.shape)\n",
        "clf = MultinomialNB()\n",
        "clf.fit(sXTrain, yTrain)\n",
        "print(clf.class_count_)\n",
        "\n",
        "print(clf.score(sXTest, yTest))\n",
        "\n",
        "print(sX.shape)\n",
        "\n",
        "from sklearn.linear_model import LinearRegression\n",
        "clf = LinearRegression()\n",
        "model = LinearRegression()\n",
        "model = LinearRegression().fit(sXTrain,yTrain)\n",
        "r_sq= model.score(sXTest,yTest)\n",
        "print('score:' , r_sq)"
      ],
      "execution_count": 8,
      "outputs": [
        {
          "output_type": "stream",
          "text": [
            "(14913, 784)\n",
            "(500,)\n",
            "(500, 576)\n",
            "(100, 576) ,  (100,)\n",
            "(400, 576) ,  (400,)\n",
            "[42. 34. 54. 35. 44. 38. 38. 39. 31. 45.]\n",
            "0.81\n",
            "(500, 576)\n",
            "score: -1.2306291875730249\n"
          ],
          "name": "stdout"
        }
      ]
    }
  ]
}